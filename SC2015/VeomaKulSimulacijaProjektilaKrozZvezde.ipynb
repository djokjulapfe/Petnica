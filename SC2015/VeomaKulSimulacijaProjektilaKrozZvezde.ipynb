{
 "metadata": {
  "name": ""
 },
 "nbformat": 3,
 "nbformat_minor": 0,
 "worksheets": [
  {
   "cells": [
    {
     "cell_type": "code",
     "collapsed": false,
     "input": [
      "#Integracija\n",
      "import numpy as np\n",
      "import math\n",
      "import matplotlib.pyplot as plt\n",
      "import numpy.random as rnd\n",
      "\n",
      "#Data Entry\n",
      "data = np.loadtxt('data/info.txt')\n",
      "\n",
      "s = data[0]\n",
      "P = np.array([data[1], data[2]])\n",
      "m = data[3]\n",
      "K = np.array([data[4], data[5]])\n",
      "n = int(data[6])\n",
      "Z = np.zeros((3, n))\n",
      "G = 1\n",
      "\n",
      "for i in range(n):\n",
      "    Z[0][i] = data[7+i]\n",
      "    Z[1][i] = data[7+n+i]\n",
      "    Z[2][i] = data[7+2*n+i]\n",
      "    \n",
      "#Shit ya'll be waitin' for\n",
      "\n",
      "#Globalne konstante\n",
      "sigma = 0.2 #Standardna devijacija za mutiranje\n",
      "population = 20 #Ukupna populacija\n",
      "cutoff = 5 #Broj prezivelih u selekciji\n",
      "generationN = 10\n",
      "\n",
      "def F( r1, r2, m1, m2 ):\n",
      "    dist = np.sqrt((r1[0]-r2[0])**2+(r1[1]-r2[1])**2)\n",
      "    fx = -G*m1*m2/dist**3*np.abs(dist) * (r1[0]-r2[0])/dist\n",
      "    fy = -G*m1*m2/dist**3*np.abs(dist) * (r1[1]-r2[1])/dist\n",
      "    return np.array([fx, fy])\n",
      "\n",
      "def calculateAcc( p_ ):\n",
      "    AccRet = np.array([0, 0])\n",
      "    for i in range(n):\n",
      "        AccRet = AccRet + F(p_, np.array([Z[0][i],Z[1][i]]), m, Z[2][i])/m\n",
      "    return AccRet\n",
      "\n",
      "def calcFitness(dna):\n",
      "    for k in range(population):\n",
      "        carmin = 69e69\n",
      "        carsum = 0\n",
      "        teta = dna[k][0]\n",
      "        h = 0.1\n",
      "        t = 500\n",
      "        v = np.array([s*math.cos(teta),s*math.sin(teta)])\n",
      "        p = np.zeros((int(t/h),2))\n",
      "        \n",
      "        for i in range(1, int(t/h)):\n",
      "            a = calculateAcc( p[i-1] )\n",
      "            v = v + a*h\n",
      "            p[i] = p[i-1] + v*h\n",
      "            carsum += np.sqrt((p[i][0] - K[0])**2+(p[i][1] - K[1])**2)\n",
      "            if np.sqrt((p[i][0] - K[0])**2+(p[i][1] - K[1])**2)<carmin:\n",
      "                carmin = np.sqrt((p[i][0] - K[0])**2+(p[i][1] - K[1])**2)\n",
      "        \n",
      "        dna[k][1] = carmin\n",
      "        dna[k][1] = carsum\n",
      "        '''\n",
      "        plt.plot(p.T[0], p.T[1], '-r')\n",
      "        plt.plot(Z[0], Z[1], 'oy')\n",
      "        plt.plot(P[0], P[1], 'ob')\n",
      "        plt.plot(K[0], K[1], 'og')\n",
      "        plt.show()\n",
      "        '''\n",
      "    return dna\n",
      "\n",
      "def naturalSelection(dna):\n",
      "    for i in range(cutoff, population):\n",
      "        nejbr = rnd.randint(0, cutoff-1)\n",
      "        dna[i][0] = dna[nejbr][0] + rnd.normal(0, sigma)\n",
      "    return dna\n",
      "\n",
      "dna = np.random.rand(population, 2)*2*np.pi\n",
      "\n",
      "for i in range(generationN):\n",
      "    print i\n",
      "    dna = calcFitness(dna)\n",
      "    dna = dna[dna[:, 1].argsort()]\n",
      "    dna = naturalSelection(dna)\n",
      "\n",
      "print dna[0][0]\n"
     ],
     "language": "python",
     "metadata": {},
     "outputs": [
      {
       "output_type": "stream",
       "stream": "stdout",
       "text": [
        "0\n",
        "1"
       ]
      },
      {
       "output_type": "stream",
       "stream": "stdout",
       "text": [
        "\n",
        "2"
       ]
      },
      {
       "output_type": "stream",
       "stream": "stdout",
       "text": [
        "\n",
        "3"
       ]
      },
      {
       "output_type": "stream",
       "stream": "stdout",
       "text": [
        "\n",
        "4"
       ]
      },
      {
       "output_type": "stream",
       "stream": "stdout",
       "text": [
        "\n",
        "5"
       ]
      },
      {
       "output_type": "stream",
       "stream": "stdout",
       "text": [
        "\n",
        "6"
       ]
      },
      {
       "output_type": "stream",
       "stream": "stdout",
       "text": [
        "\n",
        "7"
       ]
      },
      {
       "output_type": "stream",
       "stream": "stdout",
       "text": [
        "\n",
        "8"
       ]
      },
      {
       "output_type": "stream",
       "stream": "stdout",
       "text": [
        "\n",
        "9"
       ]
      },
      {
       "output_type": "stream",
       "stream": "stdout",
       "text": [
        "\n",
        "1.74171257597"
       ]
      },
      {
       "output_type": "stream",
       "stream": "stdout",
       "text": [
        "\n"
       ]
      }
     ],
     "prompt_number": 31
    },
    {
     "cell_type": "code",
     "collapsed": false,
     "input": [
      "#Integracija\n",
      "import numpy as np\n",
      "import math\n",
      "import matplotlib.pyplot as plt\n",
      "import numpy.random as rnd\n",
      "\n",
      "#Data Entry\n",
      "data = np.loadtxt('data/info.txt')\n",
      "\n",
      "s = data[0]\n",
      "P = np.array([data[1], data[2]])\n",
      "m = data[3]\n",
      "K = np.array([data[4], data[5]])\n",
      "n = int(data[6])\n",
      "Z = np.zeros((3, n))\n",
      "G = 1\n",
      "\n",
      "for i in range(n):\n",
      "    Z[0][i] = data[7+i]\n",
      "    Z[1][i] = data[7+n+i]\n",
      "    Z[2][i] = data[7+2*n+i]\n",
      "    \n",
      "#Shit ya'll be waitin' for\n",
      "\n",
      "#Globalne konstante\n",
      "sigma = 0.1 #Standardna devijacija za mutiranje\n",
      "population = 20 #Ukupna populacija\n",
      "cutoff = 5 #Broj prezivelih u selekciji\n",
      "\n",
      "carmin = 69e69\n",
      "teta = 1.74171257597\n",
      "h = 0.1\n",
      "t = 1000\n",
      "v = np.array([s*math.cos(teta),s*math.sin(teta)])\n",
      "p = np.zeros((int(t/h),2))\n",
      "p[0] = P\n",
      "\n",
      "for i in range(1, int(t/h)):\n",
      "    a = calculateAcc( p[i-1] )\n",
      "    v = v + a*h\n",
      "    p[i] = p[i-1] + v*h\n",
      "    if np.sqrt((p[i][0] - K[0])**2+(p[i][1] - K[1])**2)<carmin:\n",
      "        carmin = np.sqrt((p[i][0] - K[0])**2+(p[i][1] - K[1])**2)\n",
      "\n",
      "print carmin\n",
      "        \n",
      "plt.plot(p.T[0], p.T[1], '-r')\n",
      "plt.plot(Z[0], Z[1], 'oy')\n",
      "plt.plot(P[0], P[1], 'ob')\n",
      "plt.plot(K[0], K[1], 'og')\n",
      "plt.show()"
     ],
     "language": "python",
     "metadata": {},
     "outputs": [],
     "prompt_number": "*"
    },
    {
     "cell_type": "code",
     "collapsed": false,
     "input": [
      "print P"
     ],
     "language": "python",
     "metadata": {},
     "outputs": [
      {
       "output_type": "stream",
       "stream": "stdout",
       "text": [
        "[-10. -10.]\n"
       ]
      }
     ],
     "prompt_number": 142
    },
    {
     "cell_type": "code",
     "collapsed": false,
     "input": [],
     "language": "python",
     "metadata": {},
     "outputs": []
    }
   ],
   "metadata": {}
  }
 ]
}