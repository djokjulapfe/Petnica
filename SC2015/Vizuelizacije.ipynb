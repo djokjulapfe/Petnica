{
 "metadata": {
  "name": ""
 },
 "nbformat": 3,
 "nbformat_minor": 0,
 "worksheets": [
  {
   "cells": [
    {
     "cell_type": "code",
     "collapsed": false,
     "input": [
      "import numpy as np\n",
      "import matplotlib.pyplot as plt\n",
      "\n",
      "\n",
      "I = np.loadtxt(\"data/nesto.txt\", unpack = True);\n",
      "#I = np.reshape(I,[1024,1024])"
     ],
     "language": "python",
     "metadata": {},
     "outputs": [],
     "prompt_number": 1
    },
    {
     "cell_type": "code",
     "collapsed": false,
     "input": [
      "plt.hist(I, 50, normed = 1, facecolor='green', alpha=0.5)\n",
      "\n",
      "plt.show()"
     ],
     "language": "python",
     "metadata": {},
     "outputs": [],
     "prompt_number": 42
    },
    {
     "cell_type": "code",
     "collapsed": false,
     "input": [
      "\n",
      "fig, ax = plt.subplots()\n",
      "\n",
      "data = M\n",
      "\n",
      "cax = ax.imshow(data, interpolation='nearest', cmap=cm.hot)\n",
      "ax.set_title('Neka cudna merenja sto nam je Lazar dao')\n",
      "\n",
      "cbar = fig.colorbar(cax, ticks=[0, 500, 1500], orientation='vertical')\n",
      "cbar.ax.set_xticklabels(['Low', 'Medium', 'High'])\n",
      "\n",
      "plt.show()"
     ],
     "language": "python",
     "metadata": {},
     "outputs": [],
     "prompt_number": 41
    },
    {
     "cell_type": "code",
     "collapsed": false,
     "input": [],
     "language": "python",
     "metadata": {},
     "outputs": []
    }
   ],
   "metadata": {}
  }
 ]
}