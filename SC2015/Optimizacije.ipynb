{
 "metadata": {
  "name": ""
 },
 "nbformat": 3,
 "nbformat_minor": 0,
 "worksheets": [
  {
   "cells": [
    {
     "cell_type": "code",
     "collapsed": false,
     "input": [
      "%matplotlib"
     ],
     "language": "python",
     "metadata": {},
     "outputs": [
      {
       "output_type": "stream",
       "stream": "stdout",
       "text": [
        "Using matplotlib backend: TkAgg\n"
       ]
      }
     ],
     "prompt_number": 2
    },
    {
     "cell_type": "code",
     "collapsed": false,
     "input": [
      "import numpy as np\n",
      "import math\n",
      "import matplotlib.pyplot as plt\n",
      "\n",
      "#Definicija funkcije\n",
      "def f(x, y):\n",
      "    return 20 + (x**2 - 10*np.cos(np.pi*2*x)) + (y**2 - 10*np.cos(2*np.pi*y))\n",
      "\n",
      "#Globalne konstante\n",
      "granice = np.array([[-5, -5], [5, 5]]) #Granice u kojima  se trazi minimum\n",
      "sigma = 0.01 #Standardna devijacija za mutiranje\n",
      "population = 1000 #Ukupna populacija\n",
      "cutoff = 100 #Broj prezivelih u selekciji\n",
      "\n",
      "#Racunanje fitness-a\n",
      "def calcFitness(dna):\n",
      "    for i in range(population):\n",
      "        dna[i][2] = f(dna[i][0], dna[i][1])\n",
      "    return dna\n",
      "\n",
      "#Selekcija najboljih\n",
      "def naturalSelection(dna):\n",
      "    for i in range(cutoff, population):\n",
      "        nejbr = rnd.randint(0, cutoff-1)\n",
      "        dna[i][0] = dna[nejbr][0] + rnd.normal(0, sigma)\n",
      "        dna[i][1] = dna[nejbr][1] + rnd.normal(0, sigma)\n",
      "    return dna\n",
      "\n",
      "#Generisanje pocetnih vrednosti\n",
      "dna = rnd.randn(population, 3)\n",
      "\n",
      "#Glavni loop\n",
      "for i in range(100):\n",
      "    dna = calcFitness(dna)\n",
      "    dna = dna[dna[:, 2].argsort()]\n",
      "    dna = naturalSelection(dna)\n",
      "\n",
      "#Ispis\n",
      "print f(dna[0][0], dna[0][1])\n",
      "print dna[0][0]\n",
      "print dna[0][1]\n",
      "\n",
      "#Plot\n",
      "x = np.arange(-5, 5, 0.1)\n",
      "y = np.arange(-5, 5, 0.1)\n",
      "x, y = np.meshgrid(x, y)\n",
      "z = f(x,y)\n",
      "fig = plt.figure(figsize=plt.figaspect(0.5))\n",
      "ax = fig.add_subplot(1, 1, 1, projection='3d')\n",
      "ax.plot_surface(x, y, z, rstride=1, cstride=1, cmap=cm.rainbow, linewidth=0, antialiased=False)\n",
      "plt.show()"
     ],
     "language": "python",
     "metadata": {},
     "outputs": [
      {
       "output_type": "stream",
       "stream": "stdout",
       "text": [
        "8.44702068292e-08\n",
        "-6.9458440033e-06\n",
        "-1.94301141303e-05\n"
       ]
      }
     ],
     "prompt_number": 80
    },
    {
     "cell_type": "code",
     "collapsed": false,
     "input": [
      "rnd.randn(population, 3)"
     ],
     "language": "python",
     "metadata": {},
     "outputs": [
      {
       "metadata": {},
       "output_type": "pyout",
       "prompt_number": 79,
       "text": [
        "array([[ 0.51871859, -0.66866774,  0.57912066],\n",
        "       [-0.61421134,  0.6946705 , -0.31421765],\n",
        "       [-0.76853681, -0.78080913, -1.08576545],\n",
        "       ..., \n",
        "       [-0.67400643, -0.99037111, -2.33736046],\n",
        "       [ 0.74666937,  0.82092838, -2.37432023],\n",
        "       [-1.56889414,  1.17733037,  0.13423918]])"
       ]
      }
     ],
     "prompt_number": 79
    },
    {
     "cell_type": "code",
     "collapsed": false,
     "input": [],
     "language": "python",
     "metadata": {},
     "outputs": []
    }
   ],
   "metadata": {}
  }
 ]
}